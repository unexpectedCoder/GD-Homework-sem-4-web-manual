{
 "cells": [
  {
   "cell_type": "markdown",
   "metadata": {},
   "source": [
    "# Газодинамические функции\n",
    "\n",
    "Сделаем газодинамические и другие вспомогательные функции удобными и универсальными для дальнейших расчётов.\n",
    "Для этого сведём математические функции (2)-(5) и (9) из\n",
    "[методических указаний](https://press.bmstu.ru/catalog/item/7208/)\n",
    "в функции программные."
   ]
  },
  {
   "cell_type": "markdown",
   "metadata": {},
   "source": [
    "## Функция температуры\n",
    "\n",
    "Функция температуры\n",
    "\n",
    "$$\n",
    "\\frac{T_0}{T} = \\tau(\\mathrm{M}) =\n",
    "1 + \\frac{k - 1}{2} \\mathrm{M}^2\n",
    "$$\n",
    "\n",
    "в программном коде может быть записана так:"
   ]
  },
  {
   "cell_type": "code",
   "execution_count": 1,
   "metadata": {},
   "outputs": [],
   "source": [
    "def temp_ratio(mach, k):\n",
    "    # При этом mach и k могут быть как числами,\n",
    "    # так и массивами NumPy\n",
    "    return 1 + 0.5*(k - 1) * mach**2"
   ]
  },
  {
   "cell_type": "markdown",
   "metadata": {},
   "source": [
    "## Функция давления\n",
    "\n",
    "Функция давления\n",
    "\n",
    "$$\n",
    "\\frac{p_0}{p} = \\Pi(\\mathrm{M}) =\n",
    "\\tau(\\mathrm{M})^{\\frac{k}{k - 1}}\n",
    "$$\n",
    "\n",
    "в программе выглядит так:"
   ]
  },
  {
   "cell_type": "code",
   "execution_count": 2,
   "metadata": {},
   "outputs": [],
   "source": [
    "def press_ratio(mach, k):\n",
    "    return temp_ratio(mach, k)**(k/(k - 1))"
   ]
  },
  {
   "cell_type": "markdown",
   "metadata": {},
   "source": [
    "```{note}\n",
    "Заметьте, здесь, как и в математической формуле мы используем ранее определённую функцию температуры.\n",
    "В программировании это очень важная концепция под называнием _повторное использование кода_.\n",
    "Она призвана свести к минимуму человеческий фактор в плане ошибок при написании одного и того же кода в разных частях программы.\n",
    "```"
   ]
  },
  {
   "cell_type": "markdown",
   "metadata": {},
   "source": [
    "## Функция плотности\n",
    "\n",
    "Функция\n",
    "\n",
    "$$\n",
    "\\frac{\\rho_0}{\\rho} = \\varepsilon(\\mathrm{M}) =\n",
    "\\tau(\\mathrm{M})^{\\frac{1}{k - 1}}\n",
    "$$\n",
    "\n",
    "в программе записывается так:"
   ]
  },
  {
   "cell_type": "code",
   "execution_count": 3,
   "metadata": {},
   "outputs": [],
   "source": [
    "def dens_ration(mach, k):\n",
    "    return temp_ratio(mach, k)**(1/(k - 1))"
   ]
  },
  {
   "cell_type": "markdown",
   "metadata": {},
   "source": [
    "## Функция площади\n",
    "\n",
    "Функцию\n",
    "\n",
    "$$\n",
    "\\frac{S}{S_*} = q(\\mathrm{M}) =\n",
    "\\frac{1}{\\mathrm{M}}\n",
    "\\left(\n",
    "    \\cfrac{2}{k + 1}\n",
    "\\right)^{\\cfrac{k+1}{2 (k-1)}}\n",
    "\\tau(\\mathrm{M})^{\\cfrac{k+1}{2 (k-1)}}\n",
    "$$\n",
    "\n",
    "разобьём на небольшие составляющие, чтобы не ошибиться, и запишем в коде следующим образом:"
   ]
  },
  {
   "cell_type": "code",
   "execution_count": 4,
   "metadata": {},
   "outputs": [],
   "source": [
    "def square_ratio(mach: float, k: float):\n",
    "    a = (k + 1) / (2*(k - 1))\n",
    "    return 1/mach * (2/(k + 1))**a * temp_ratio(mach, k)**a"
   ]
  },
  {
   "cell_type": "markdown",
   "metadata": {},
   "source": [
    "## Функции преобразований скоростей\n",
    "\n",
    "Перевод числа Маха $\\mathrm{M}$ в безразмерную скорость $\\lambda$ и обратно осуществляется по следующим формулам:\n",
    "\n",
    "$$\n",
    "\\lambda = \\mathrm{M} \\cdot \\sqrt{\n",
    "    \\cfrac{\\cfrac{k+1}{2}}{1 + \\cfrac{k - 1}{2} \\mathrm{M}^2}\n",
    "};\n",
    "\\quad\n",
    "\\mathrm{M} = \\lambda \\cdot \\sqrt{\n",
    "    \\cfrac{\\cfrac{2}{k+1}}{1 - \\cfrac{k-1}{k+1} \\lambda^2}\n",
    "}.\n",
    "$$\n",
    "\n",
    "В коде запишем это так:"
   ]
  },
  {
   "cell_type": "code",
   "execution_count": 5,
   "metadata": {},
   "outputs": [],
   "source": [
    "import numpy as np\n",
    "\n",
    "def lambda2mach(lam: float, k: float):\n",
    "    return lam * np.sqrt(2/(k + 1) / (1 - (k - 1)/(k + 1) * lam**2))\n",
    "\n",
    "\n",
    "def mach2lambda(mach: float, k: float):\n",
    "    return mach * np.sqrt(0.5*(k + 1) / temp_ratio(mach, k))"
   ]
  },
  {
   "cell_type": "markdown",
   "metadata": {},
   "source": [
    "```{important}\n",
    "Поскольку аргументами созданных нами функций могут быть массивы NumPy, то в качестве математических функций (Наподобие `sqrt`) следует применять функции, реализованные в NumPy.\n",
    "Например, стандартный `math.sqrt` не способен работать с массивами.\n",
    "Именно поэтому мы используем `np.sqrt`.\n",
    "```"
   ]
  },
  {
   "cell_type": "markdown",
   "metadata": {},
   "source": [
    "## Функция скорости звука\n",
    "\n",
    "Местную скорость звука, как известно, можно рассчитать следующим образом:\n",
    "\n",
    "$$\n",
    "a = \\sqrt{k R T},\n",
    "$$\n",
    "\n",
    "где $T$ — статическая температура газового потока.\n",
    "\n",
    "В коде:"
   ]
  },
  {
   "cell_type": "code",
   "execution_count": 6,
   "metadata": {},
   "outputs": [],
   "source": [
    "def sonic(k: float, R: float, T: float):\n",
    "    return np.sqrt(k * R * T)"
   ]
  },
  {
   "cell_type": "markdown",
   "metadata": {},
   "source": [
    "С таким багажом мы с лёгкостью решим задачу, к чему и переходим."
   ]
  }
 ],
 "metadata": {
  "kernelspec": {
   "display_name": ".venv",
   "language": "python",
   "name": "python3"
  },
  "language_info": {
   "codemirror_mode": {
    "name": "ipython",
    "version": 3
   },
   "file_extension": ".py",
   "mimetype": "text/x-python",
   "name": "python",
   "nbconvert_exporter": "python",
   "pygments_lexer": "ipython3",
   "version": "3.10.11"
  }
 },
 "nbformat": 4,
 "nbformat_minor": 2
}
